{
  "nbformat": 4,
  "nbformat_minor": 0,
  "metadata": {
    "colab": {
      "name": "Assignment 1 Celcius to farenheit.ipynb",
      "provenance": [],
      "collapsed_sections": []
    },
    "kernelspec": {
      "name": "python3",
      "display_name": "Python 3"
    },
    "accelerator": "GPU"
  },
  "cells": [
    {
      "cell_type": "markdown",
      "metadata": {
        "id": "cn6PVX-vvA19",
        "colab_type": "text"
      },
      "source": [
        "This Assigment Consist of a basic neural network which convets Celsius into Fahrenheit. Below down is the exact formula used.\n",
        "# f=c×1.8+32\n",
        "\n",
        "\n"
      ]
    },
    {
      "cell_type": "code",
      "metadata": {
        "id": "sVAD967TvumW",
        "colab_type": "code",
        "colab": {}
      },
      "source": [
        "from __future__ import absolute_import, division, print_function, unicode_literals"
      ],
      "execution_count": 0,
      "outputs": []
    },
    {
      "cell_type": "code",
      "metadata": {
        "id": "6W6xgV3Dvl4Y",
        "colab_type": "code",
        "colab": {}
      },
      "source": [
        "try:\n",
        "  # Use the %tensorflow_version magic if in colab.\n",
        "  %tensorflow_version 2.x\n",
        "except Exception:\n",
        "  pass\n",
        "\n",
        "import tensorflow as tf"
      ],
      "execution_count": 0,
      "outputs": []
    },
    {
      "cell_type": "code",
      "metadata": {
        "id": "mrDct0newL3R",
        "colab_type": "code",
        "colab": {}
      },
      "source": [
        "import numpy as np\n",
        "import logging\n",
        "logger = tf.get_logger()\n",
        "logger.setLevel(logging.ERROR)"
      ],
      "execution_count": 0,
      "outputs": []
    },
    {
      "cell_type": "code",
      "metadata": {
        "id": "ZIAQuHwbwjyM",
        "colab_type": "code",
        "colab": {
          "base_uri": "https://localhost:8080/",
          "height": 141
        },
        "outputId": "f9a5518b-a492-4a17-f1e6-a3c9ec100ffd"
      },
      "source": [
        "celsius = np.array([-40, -10,  0,  8, 15, 22,  38], dtype = float)\n",
        "fahrenheit = np.array([-40,  14, 32, 46, 59, 72, 100], dtype = float)\n",
        "for i,c in enumerate(celsius):\n",
        "  print(\"{} Degree Celsius = {} Degree Fahrenheit\".format(c,fahrenheit[i]))"
      ],
      "execution_count": 31,
      "outputs": [
        {
          "output_type": "stream",
          "text": [
            "-40.0 Degree Celsius = -40.0 Degree Fahrenheit\n",
            "-10.0 Degree Celsius = 14.0 Degree Fahrenheit\n",
            "0.0 Degree Celsius = 32.0 Degree Fahrenheit\n",
            "8.0 Degree Celsius = 46.0 Degree Fahrenheit\n",
            "15.0 Degree Celsius = 59.0 Degree Fahrenheit\n",
            "22.0 Degree Celsius = 72.0 Degree Fahrenheit\n",
            "38.0 Degree Celsius = 100.0 Degree Fahrenheit\n"
          ],
          "name": "stdout"
        }
      ]
    },
    {
      "cell_type": "markdown",
      "metadata": {
        "id": "DxpgknzizAaL",
        "colab_type": "text"
      },
      "source": [
        "# Building the Model"
      ]
    },
    {
      "cell_type": "markdown",
      "metadata": {
        "id": "qC8zZw3Lz5IS",
        "colab_type": "text"
      },
      "source": [
        "* input_shape=[1] — This specifies that the input to this layer is a single \n",
        "value. That is, the shape is a one-dimensional array with one member. Since this is the first (and only) layer, that input shape is the input shape of the entire model. The single value is a floating point number, representing degrees Celsius.\n",
        "\n",
        "* units=1 — This specifies the number of neurons in the layer. The number of neurons defines how many internal variables the layer has to try to learn how to solve the problem (more later). Since this is the final layer, it is also the size of the model's output — a single float value representing degrees Fahrenheit. (In a multi-layered network, the size and shape of the layer would need to match the input_shape of the next layer.)\n",
        "\n",
        "* The below two initialisation of layer and model building could be done simuntaneously:\n",
        "\n",
        "model = tf.keras.Sequential([tf.keras.layers.Dense(units=1, input_shape=[1])])"
      ]
    },
    {
      "cell_type": "code",
      "metadata": {
        "id": "pAmZJTyAyrWr",
        "colab_type": "code",
        "colab": {}
      },
      "source": [
        "l0 = tf.keras.layers.Dense(units = 1, input_shape = [1])"
      ],
      "execution_count": 0,
      "outputs": []
    },
    {
      "cell_type": "code",
      "metadata": {
        "id": "Gr6BXTUmxDj4",
        "colab_type": "code",
        "colab": {}
      },
      "source": [
        "#Assembling of Layers\n",
        "#The Sequential model definition takes a list of layers as an argument, specifying the calculation order from the input to the output.\n",
        "model = tf.keras.Sequential([l0])"
      ],
      "execution_count": 0,
      "outputs": []
    },
    {
      "cell_type": "markdown",
      "metadata": {
        "id": "k7K4Pb-L1llo",
        "colab_type": "text"
      },
      "source": [
        "###Compile the model, with loss and optimizer functions\n",
        "* Loss function — A way of measuring how far off predictions are from the desired outcome. (The measured difference is called the \"loss\".)\n",
        "\n",
        "* Optimizer function — A way of adjusting internal values in order to reduce the loss.\n",
        "\n",
        "* These are used during training (model.fit(), below) to first calculate the loss at each point, and then improve it. In fact, the act of calculating the current loss of a model and then improving it is precisely what training is.\n",
        "\n",
        "* During training, the optimizer function is used to calculate adjustments to the model's internal variables. The goal is to adjust the internal variables until the model (which is really a math function) mirrors the actual equation for converting Celsius to Fahrenheit."
      ]
    },
    {
      "cell_type": "code",
      "metadata": {
        "id": "BAUZNbiZ0jC1",
        "colab_type": "code",
        "colab": {}
      },
      "source": [
        "#Compiling the Model\n",
        "model.compile(loss='mean_squared_error', optimizer=tf.keras.optimizers.Adam(0.1))"
      ],
      "execution_count": 0,
      "outputs": []
    },
    {
      "cell_type": "code",
      "metadata": {
        "id": "3iDXzon73dLy",
        "colab_type": "code",
        "colab": {
          "base_uri": "https://localhost:8080/",
          "height": 34
        },
        "outputId": "a2e20f5b-983d-4c5f-f843-29a984019f4c"
      },
      "source": [
        "# The fit method returns a history object which is used below to visualize the error rate.\n",
        "result = model.fit(celcius, fahrenheit, epochs=500, verbose=False)\n",
        "print(\"Finished training the model\")"
      ],
      "execution_count": 52,
      "outputs": [
        {
          "output_type": "stream",
          "text": [
            "Finished training the model\n"
          ],
          "name": "stdout"
        }
      ]
    },
    {
      "cell_type": "code",
      "metadata": {
        "id": "w4XBA3Me4dPE",
        "colab_type": "code",
        "colab": {
          "base_uri": "https://localhost:8080/",
          "height": 296
        },
        "outputId": "e016a57d-9939-436a-8260-f2c9c5c1a9b4"
      },
      "source": [
        "import matplotlib.pyplot as plt\n",
        "plt.xlabel(\"Epoch Number\")\n",
        "plt.ylabel(\"Loss\")\n",
        "plt.plot(result.history[\"loss\"])"
      ],
      "execution_count": 54,
      "outputs": [
        {
          "output_type": "execute_result",
          "data": {
            "text/plain": [
              "[<matplotlib.lines.Line2D at 0x7fa8b24429b0>]"
            ]
          },
          "metadata": {
            "tags": []
          },
          "execution_count": 54
        },
        {
          "output_type": "display_data",
          "data": {
            "image/png": "[encoded data removed]",
            "text/plain": [
              "<Figure size 432x288 with 1 Axes>"
            ]
          },
          "metadata": {
            "tags": []
          }
        }
      ]
    },
    {
      "cell_type": "code",
      "metadata": {
        "id": "NQcouyN07Oec",
        "colab_type": "code",
        "colab": {
          "base_uri": "https://localhost:8080/",
          "height": 34
        },
        "outputId": "7b6fac8c-40cd-4a14-b73b-5497fa69e13d"
      },
      "source": [
        "print(model.predict([100.0]))"
      ],
      "execution_count": 55,
      "outputs": [
        {
          "output_type": "stream",
          "text": [
            "[[211.74374]]\n"
          ],
          "name": "stdout"
        }
      ]
    },
    {
      "cell_type": "code",
      "metadata": {
        "id": "eoMBjJfy7Qma",
        "colab_type": "code",
        "colab": {
          "base_uri": "https://localhost:8080/",
          "height": 34
        },
        "outputId": "e25464f6-05dc-4218-d712-154edf0434d1"
      },
      "source": [
        "print(\"These are the layers variables: {}\".format(l0.get_weights()))"
      ],
      "execution_count": 56,
      "outputs": [
        {
          "output_type": "stream",
          "text": [
            "These are the layers variables: [array([[1.7981567]], dtype=float32), array([31.928078], dtype=float32)]\n"
          ],
          "name": "stdout"
        }
      ]
    },
    {
      "cell_type": "markdown",
      "metadata": {
        "id": "0h4AmN4N97rp",
        "colab_type": "text"
      },
      "source": [
        "### Adding some more dense layers"
      ]
    },
    {
      "cell_type": "code",
      "metadata": {
        "id": "xqtiggR3-BtC",
        "colab_type": "code",
        "colab": {
          "base_uri": "https://localhost:8080/",
          "height": 265
        },
        "outputId": "6b9100df-0259-4146-c9f4-0cb1ce40a8ef"
      },
      "source": [
        "l0 = tf.keras.layers.Dense(units=4, input_shape=[1])\n",
        "l1 = tf.keras.layers.Dense(units=4)\n",
        "l2 = tf.keras.layers.Dense(units=1)\n",
        "model1 = tf.keras.Sequential([l0, l1, l2])\n",
        "model1.compile(loss='mean_squared_error', optimizer=tf.keras.optimizers.Adam(0.1))\n",
        "result1 = model1.fit(celsius, fahrenheit, epochs=500, verbose=False)\n",
        "print(\"Finished training the model\")\n",
        "print(model1.predict([100.0]))\n",
        "print(\"Model predicts that 100 degrees Celsius is: {} degrees Fahrenheit\".format(model.predict([100.0])))\n",
        "print(\"These are the l0 variables: {}\".format(l0.get_weights()))\n",
        "print(\"These are the l1 variables: {}\".format(l1.get_weights()))\n",
        "print(\"These are the l2 variables: {}\".format(l2.get_weights()))"
      ],
      "execution_count": 59,
      "outputs": [
        {
          "output_type": "stream",
          "text": [
            "Finished training the model\n",
            "[[211.74745]]\n",
            "Model predicts that 100 degrees Celsius is: [[211.74374]] degrees Fahrenheit\n",
            "These are the l0 variables: [array([[ 0.6734021 , -0.4211348 ,  0.16474557, -0.20594513]],\n",
            "      dtype=float32), array([ 3.8857532, -4.0474534,  3.6788335, -2.3781576], dtype=float32)]\n",
            "These are the l1 variables: [array([[ 0.31115863,  0.04537283, -0.94599134, -0.34184712],\n",
            "       [ 0.21124919,  0.58851355, -0.11471234,  1.2422497 ],\n",
            "       [ 0.90612805,  0.43769696,  0.1376127 , -1.0458219 ],\n",
            "       [ 1.2414374 , -0.17634945,  0.27826956,  0.48181075]],\n",
            "      dtype=float32), array([ 2.5186493,  2.6319838, -3.6926558, -3.8532028], dtype=float32)]\n",
            "These are the l2 variables: [array([[ 0.56439155],\n",
            "       [ 0.323704  ],\n",
            "       [-0.6730306 ],\n",
            "       [-1.3715246 ]], dtype=float32), array([3.718748], dtype=float32)]\n"
          ],
          "name": "stdout"
        }
      ]
    },
    {
      "cell_type": "code",
      "metadata": {
        "id": "IiglCWD2_PF1",
        "colab_type": "code",
        "colab": {
          "base_uri": "https://localhost:8080/",
          "height": 296
        },
        "outputId": "a1789309-69be-444c-a9ae-7fa522adf3ea"
      },
      "source": [
        "plt.xlabel(\"Epoch Number\")\n",
        "plt.ylabel(\"Loss\")\n",
        "plt.plot(result1.history[\"loss\"])"
      ],
      "execution_count": 60,
      "outputs": [
        {
          "output_type": "execute_result",
          "data": {
            "text/plain": [
              "[<matplotlib.lines.Line2D at 0x7fa8b1a78ef0>]"
            ]
          },
          "metadata": {
            "tags": []
          },
          "execution_count": 60
        },
        {
          "output_type": "display_data",
          "data": {
            "image/png": "[encoded data removed]",
            "text/plain": [
              "<Figure size 432x288 with 1 Axes>"
            ]
          },
          "metadata": {
            "tags": []
          }
        }
      ]
    }
  ]
}